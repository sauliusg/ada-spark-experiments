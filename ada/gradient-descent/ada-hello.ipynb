{
 "cells": [
  {
   "cell_type": "code",
   "execution_count": 1,
   "id": "25b955e8",
   "metadata": {},
   "outputs": [
    {
     "name": "stderr",
     "output_type": "stream",
     "text": [
      "gcc -c hello.adb\n",
      "gnatbind -x hello.ali\n",
      "gnatlink hello.ali\n"
     ]
    },
    {
     "name": "stdout",
     "output_type": "stream",
     "text": [
      "Hello, Ada!\n"
     ]
    }
   ],
   "source": [
    "--% run_file: hello.adb\n",
    "\n",
    "with Text_IO; use Text_IO;\n",
    "\n",
    "procedure Hello is\n",
    "begin\n",
    "   Put_Line (\"Hello, Ada!\");\n",
    "end;"
   ]
  },
  {
   "cell_type": "code",
   "execution_count": 48,
   "id": "1ed2f2ae",
   "metadata": {
    "scrolled": true
   },
   "outputs": [
    {
     "name": "stderr",
     "output_type": "stream",
     "text": [
      "gcc -c gradient_descent_jupyter.adb\n",
      "gcc -c gradient_descent_optimiser.adb\n",
      "gcc -c optimised_functions.adb\n",
      "gcc -c real_vector.ads\n",
      "gnatbind -x gradient_descent_jupyter.ali\n",
      "gnatlink gradient_descent_jupyter.ali\n"
     ]
    },
    {
     "name": "stdout",
     "output_type": "stream",
     "text": [
      "         10: [ 1.13787E+01  3.92170E+00  4.45275E+00 ] F = -2.59735E+00\n",
      "         20: [ 1.11309E+01  4.42116E+00  4.62133E+00 ] F = -2.94461E+00\n",
      "         30: [ 1.10428E+01  4.61010E+00  4.68062E+00 ] F = -2.99315E+00\n",
      "         40: [ 1.10120E+01  4.67669E+00  4.70131E+00 ] F = -2.99917E+00\n",
      "         50: [ 1.10013E+01  4.69994E+00  4.70853E+00 ] F = -2.99990E+00\n",
      "         60: [ 1.09976E+01  4.70805E+00  4.71104E+00 ] F = -2.99999E+00\n",
      "         70: [ 1.09963E+01  4.71088E+00  4.71192E+00 ] F = -3.00000E+00\n",
      "         80: [ 1.09958E+01  4.71186E+00  4.71222E+00 ] F = -3.00000E+00\n",
      "         90: [ 1.09957E+01  4.71221E+00  4.71233E+00 ] F = -3.00000E+00\n",
      "        100: [ 1.09956E+01  4.71232E+00  4.71237E+00 ] F = -3.00000E+00\n",
      "Optimized X: 1.0996E+01 4.7123E+00 4.7124E+00 \n"
     ]
    }
   ],
   "source": [
    "--% run_file: gradient_descent_jupyter.adb\n",
    "\n",
    "with Ada.Text_IO;         use Ada.Text_IO;\n",
    "with Ada.Integer_Text_IO; use Ada.Integer_Text_IO;\n",
    "with Ada.Float_Text_IO;   use Ada.Float_Text_IO;\n",
    "\n",
    "with Gradient_Descent_Optimiser; use Gradient_Descent_Optimiser;\n",
    "with Optimised_Functions; use Optimised_Functions;\n",
    "\n",
    "procedure Gradient_Descent_Jupyter is\n",
    "\n",
    "begin\n",
    "   -- Perform gradient descent optimization\n",
    "   Gradient_Descent_Optimizer(\n",
    "      Sin_Function'Access,\n",
    "      Sin_Function_Derivative'Access,\n",
    "      Learning_Rate => 0.1,  -- Learning rate for the optimization\n",
    "      Max_Iterations => 100,  -- Maximum number of iterations\n",
    "      Initial_X => (12.0, 3.0, 4.0));  -- Initial values of X as a vector\n",
    "end Gradient_Descent_Jupyter;"
   ]
  },
  {
   "cell_type": "code",
   "execution_count": null,
   "id": "29185f7c",
   "metadata": {},
   "outputs": [],
   "source": []
  }
 ],
 "metadata": {
  "kernelspec": {
   "display_name": "Ada",
   "language": "ada",
   "name": "ada"
  },
  "language_info": {
   "file_extension": ".ada",
   "mimetype": "text/x-ada",
   "name": "ada"
  }
 },
 "nbformat": 4,
 "nbformat_minor": 5
}
