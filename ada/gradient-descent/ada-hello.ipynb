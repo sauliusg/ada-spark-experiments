{
 "cells": [
  {
   "cell_type": "code",
   "execution_count": 1,
   "id": "25b955e8",
   "metadata": {},
   "outputs": [
    {
     "name": "stderr",
     "output_type": "stream",
     "text": [
      "x86_64-linux-gnu-gcc-9 -c hello.adb\n",
      "x86_64-linux-gnu-gnatbind-9 -x hello.ali\n",
      "x86_64-linux-gnu-gnatlink-9 hello.ali\n"
     ]
    },
    {
     "name": "stdout",
     "output_type": "stream",
     "text": [
      "Hello, Ada!\n"
     ]
    }
   ],
   "source": [
    "--% run_file: hello.adb\n",
    "\n",
    "with Text_IO; use Text_IO;\n",
    "\n",
    "procedure Hello is\n",
    "begin\n",
    "   Put_Line (\"Hello, Ada!\");\n",
    "end;"
   ]
  },
  {
   "cell_type": "code",
   "execution_count": null,
   "id": "e99bcd68",
   "metadata": {},
   "outputs": [],
   "source": []
  }
 ],
 "metadata": {
  "kernelspec": {
   "display_name": "Ada",
   "language": "ada",
   "name": "ada"
  },
  "language_info": {
   "file_extension": ".ada",
   "mimetype": "text/x-ada",
   "name": "ada"
  }
 },
 "nbformat": 4,
 "nbformat_minor": 5
}
