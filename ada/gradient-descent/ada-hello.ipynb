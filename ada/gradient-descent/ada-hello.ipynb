{
 "cells": [
  {
   "cell_type": "code",
   "execution_count": 1,
   "id": "25b955e8",
   "metadata": {},
   "outputs": [
    {
     "name": "stderr",
     "output_type": "stream",
     "text": [
      "gcc -c hello.adb\n",
      "gnatbind -x hello.ali\n",
      "gnatlink hello.ali\n"
     ]
    },
    {
     "name": "stdout",
     "output_type": "stream",
     "text": [
      "Hello, Ada!\n"
     ]
    }
   ],
   "source": [
    "--% run_file: hello.adb\n",
    "\n",
    "with Text_IO; use Text_IO;\n",
    "\n",
    "procedure Hello is\n",
    "begin\n",
    "   Put_Line (\"Hello, Ada!\");\n",
    "end;"
   ]
  },
  {
   "cell_type": "code",
   "execution_count": 41,
   "id": "44bce644",
   "metadata": {
    "scrolled": true
   },
   "outputs": [
    {
     "name": "stderr",
     "output_type": "stream",
     "text": [
      "gcc -c gradient_descent_jupyter.adb\n",
      "gcc -c gradient_descent_optimiser.adb\n",
      "gcc -c optimised_functions.adb\n",
      "gcc -c real_vector.ads\n",
      "gnatbind -x gradient_descent_jupyter.ali\n",
      "gnatlink gradient_descent_jupyter.ali\n"
     ]
    },
    {
     "name": "stdout",
     "output_type": "stream",
     "text": [
      "         10: [ 6.61061E-01  1.21475E+00  1.76844E+00 ] F =  2.64412E+00\n",
      "         20: [ 5.17294E-01  1.02306E+00  1.52882E+00 ] F =  2.50166E+00\n",
      "         30: [ 5.01857E-01  1.00248E+00  1.50309E+00 ] F =  2.50002E+00\n",
      "         40: [ 5.00199E-01  1.00027E+00  1.50033E+00 ] F =  2.50000E+00\n",
      "         50: [ 5.00021E-01  1.00003E+00  1.50004E+00 ] F =  2.50000E+00\n",
      "         60: [ 5.00002E-01  1.00000E+00  1.50000E+00 ] F =  2.50000E+00\n",
      "         70: [ 5.00000E-01  1.00000E+00  1.50000E+00 ] F =  2.50000E+00\n",
      "         80: [ 5.00000E-01  1.00000E+00  1.50000E+00 ] F =  2.50000E+00\n",
      "         90: [ 5.00000E-01  1.00000E+00  1.50000E+00 ] F =  2.50000E+00\n",
      "        100: [ 5.00000E-01  1.00000E+00  1.50000E+00 ] F =  2.50000E+00\n",
      "Optimized X: 5.0000E-01 1.0000E+00 1.5000E+00 \n"
     ]
    }
   ],
   "source": [
    "--% run_file: gradient_descent_jupyter.adb\n",
    "\n",
    "with Ada.Text_IO;         use Ada.Text_IO;\n",
    "with Ada.Integer_Text_IO; use Ada.Integer_Text_IO;\n",
    "with Ada.Float_Text_IO;   use Ada.Float_Text_IO;\n",
    "\n",
    "with Gradient_Descent_Optimiser; use Gradient_Descent_Optimiser;\n",
    "with Optimised_Functions; use Optimised_Functions;\n",
    "\n",
    "procedure Gradient_Descent_Jupyter is\n",
    "\n",
    "begin\n",
    "   -- Perform gradient descent optimization\n",
    "   Gradient_Descent_Optimizer(\n",
    "      Quadratic_Function'Access,\n",
    "      Quadratic_Function_Derivative'Access,\n",
    "      Learning_Rate => 0.1,  -- Learning rate for the optimization\n",
    "      Max_Iterations => 100,  -- Maximum number of iterations\n",
    "      Initial_X => (2.0, 3.0, 4.0));  -- Initial values of X as a vector\n",
    "end Gradient_Descent_Jupyter;"
   ]
  },
  {
   "cell_type": "code",
   "execution_count": null,
   "id": "79656be5",
   "metadata": {},
   "outputs": [],
   "source": []
  }
 ],
 "metadata": {
  "kernelspec": {
   "display_name": "Ada",
   "language": "ada",
   "name": "ada"
  },
  "language_info": {
   "file_extension": ".ada",
   "mimetype": "text/x-ada",
   "name": "ada"
  }
 },
 "nbformat": 4,
 "nbformat_minor": 5
}
